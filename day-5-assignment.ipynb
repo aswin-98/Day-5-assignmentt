{
 "cells": [
  {
   "cell_type": "markdown",
   "metadata": {},
   "source": [
    "# Question 1"
   ]
  },
  {
   "cell_type": "code",
   "execution_count": 5,
   "metadata": {},
   "outputs": [],
   "source": [
    "onelist = [1,5,6,4,1,2,3,5] \n",
    "twolist = [1,5,6,5,1,2,3,6] \n",
    "      \n",
    "flag = 0\n",
    "if(all(x in onelist for x in twolist)): \n",
    "    flag = 1\n",
    "\n",
    "if (flag) : \n",
    "    print (\"Listy = \" + str(onelist) , \"it's Match\") \n",
    "else : \n",
    "    print (\"Listy = \"+ str(twolist) , \"it's Gone\") "
   ]
  },
  {
   "cell_type": "markdown",
   "metadata": {},
   "source": [
    "# Question 2"
   ]
  },
  {
   "cell_type": "code",
   "execution_count": null,
   "metadata": {},
   "outputs": [],
   "source": [
    "start = 1\n",
    "end = 2500\n",
    "  \n",
    "for i in range(start,end): \n",
    "    for j in range(2,i): \n",
    "        if(i % j==0): \n",
    "            break\n",
    "    else: \n",
    "        print(i) "
   ]
  },
  {
   "cell_type": "markdown",
   "metadata": {},
   "source": [
    "# Question 3"
   ]
  },
  {
   "cell_type": "code",
   "execution_count": null,
   "metadata": {},
   "outputs": [],
   "source": [
    "def sentenceCapitalizer(text):\n",
    "    return re.sub(r\"(\\.\\s+|^)(\\w+)\",\n",
    "                  lambda m: m.group(1) + m.group(2).capitalize(),\n",
    "                  text)\n",
    "\n",
    "s = \"hey. this is aswin. i am in coimbatore\"\n",
    "print(sentenceCapitalizer(s))"
   ]
  },
  {
   "cell_type": "code",
   "execution_count": null,
   "metadata": {},
   "outputs": [],
   "source": []
  }
 ],
 "metadata": {
  "kernelspec": {
   "display_name": "Python 3",
   "language": "python",
   "name": "python3"
  },
  "language_info": {
   "codemirror_mode": {
    "name": "ipython",
    "version": 3
   },
   "file_extension": ".py",
   "mimetype": "text/x-python",
   "name": "python",
   "nbconvert_exporter": "python",
   "pygments_lexer": "ipython3",
   "version": "3.8.3"
  }
 },
 "nbformat": 4,
 "nbformat_minor": 4
}
